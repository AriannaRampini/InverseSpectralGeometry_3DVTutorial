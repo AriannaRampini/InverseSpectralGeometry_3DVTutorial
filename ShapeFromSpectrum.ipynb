{
  "nbformat": 4,
  "nbformat_minor": 0,
  "metadata": {
    "colab": {
      "name": "ShapeFromSpectrum.ipynb",
      "provenance": [],
      "include_colab_link": true
    },
    "kernelspec": {
      "name": "python3",
      "display_name": "Python 3"
    },
    "language_info": {
      "name": "python"
    }
  },
  "cells": [
    {
      "cell_type": "markdown",
      "metadata": {
        "id": "view-in-github",
        "colab_type": "text"
      },
      "source": [
        "<a href=\"https://colab.research.google.com/github/AriannaRampini/InverseSpectralGeometry_3DVTutorial/blob/main/ShapeFromSpectrum.ipynb\" target=\"_parent\"><img src=\"https://colab.research.google.com/assets/colab-badge.svg\" alt=\"Open In Colab\"/></a>"
      ]
    },
    {
      "cell_type": "code",
      "metadata": {
        "id": "aJ0--ywM3giw"
      },
      "source": [
        "import torch\n",
        "import numpy as np\n",
        "\n",
        "import plotly\n",
        "import plotly.graph_objects as go\n",
        "from plotly.subplots import make_subplots\n",
        "\n",
        "def _mesh_graph_object(pos, faces, intensity=None, scene=\"scene\", showscale=True):\n",
        "    cpu = torch.device(\"cpu\")\n",
        "    if type(pos) != np.ndarray:\n",
        "      pos = pos.to(cpu).clone().detach().numpy()\n",
        "    if pos.shape[-1] != 3:\n",
        "      raise ValueError(\"Vertices positions must have shape [n,3]\")\n",
        "    if type(faces) != np.ndarray:\n",
        "      faces = faces.to(cpu).clone().detach().numpy()\n",
        "    if faces.shape[-1] != 3:\n",
        "      raise ValueError(\"Face indices must have shape [m,3]\") \n",
        "    if intensity is None:\n",
        "      intensity = np.ones([pos.shape[0]])\n",
        "    elif type(intensity) != np.ndarray:\n",
        "      intensity = intensity.to(cpu).clone().detach().numpy()\n",
        "\n",
        "    x, z, y = pos.T\n",
        "    i, j, k = faces.T\n",
        "\n",
        "    mesh = go.Mesh3d(x=x, y=y, z=z,\n",
        "              color='lightpink',\n",
        "              intensity=intensity,\n",
        "              opacity=1,\n",
        "              colorscale=[[0, 'gold'],[0.5, 'mediumturquoise'],[1, 'magenta']],\n",
        "              i=i, j=j, k=k,\n",
        "              showscale=showscale,\n",
        "              scene=scene)\n",
        "    return mesh\n",
        "\n",
        "def visualize(pos, faces, intensity=None):\n",
        "    mesh   = _mesh_graph_object(pos, faces, intensity)\n",
        "    layout = go.Layout(scene=go.layout.Scene(aspectmode=\"data\")) \n",
        "\n",
        "    #pio.renderers.default=\"plotly_mimetype\"\n",
        "    fig = go.Figure(data=[mesh],\n",
        "                    layout=layout)\n",
        "    fig.update_layout(\n",
        "        autosize=True,\n",
        "        margin=dict(l=20, r=20, t=20, b=20),\n",
        "        paper_bgcolor=\"LightSteelBlue\")\n",
        "    fig.show()\n",
        "    return\n"
      ],
      "execution_count": null,
      "outputs": []
    },
    {
      "cell_type": "code",
      "metadata": {
        "id": "NUfqlBS_4jy4"
      },
      "source": [
        "!wget https://github.com/AriannaRampini/InverseSpectralGeometry_3DVTutorial/blob/main/data/tr_reg_000.off"
      ],
      "execution_count": null,
      "outputs": []
    },
    {
      "cell_type": "code",
      "metadata": {
        "id": "ugAD7qzpCG8p"
      },
      "source": [
        "def read_off(str_file: str):\n",
        "    file = open(str_file, 'r')\n",
        "    if 'OFF' != file.readline().strip():\n",
        "        raise('Not a valid OFF header')\n",
        "    n_verts, n_faces, n_dontknow = tuple([int(s) for s in file.readline().strip().split(' ')])\n",
        "    pos   = torch.Tensor([[float(s) for s in file.readline().strip().split(' ')] for i_vert in range(n_verts)])\n",
        "    faces = torch.Tensor([[int(s) for s in file.readline().strip().split(' ')][1:] for i_face in range(n_faces)])\n",
        "    return pos, faces"
      ],
      "execution_count": 3,
      "outputs": []
    },
    {
      "cell_type": "code",
      "metadata": {
        "id": "iQ_UM7KvB8m5",
        "outputId": "58b11ee4-fd7f-4a83-b909-93e612e4baf2",
        "colab": {
          "base_uri": "https://localhost:8080/",
          "height": 321
        }
      },
      "source": [
        "\n",
        "\n",
        "import trimesh\n",
        "\n"
      ],
      "execution_count": 2,
      "outputs": [
        {
          "output_type": "error",
          "ename": "ModuleNotFoundError",
          "evalue": "ignored",
          "traceback": [
            "\u001b[0;31m---------------------------------------------------------------------------\u001b[0m",
            "\u001b[0;31mModuleNotFoundError\u001b[0m                       Traceback (most recent call last)",
            "\u001b[0;32m<ipython-input-2-4f22e34f59b6>\u001b[0m in \u001b[0;36m<module>\u001b[0;34m()\u001b[0m\n\u001b[0;32m----> 1\u001b[0;31m \u001b[0;32mimport\u001b[0m \u001b[0mtrimesh\u001b[0m\u001b[0;34m\u001b[0m\u001b[0;34m\u001b[0m\u001b[0m\n\u001b[0m\u001b[1;32m      2\u001b[0m \u001b[0;34m\u001b[0m\u001b[0m\n",
            "\u001b[0;31mModuleNotFoundError\u001b[0m: No module named 'trimesh'",
            "",
            "\u001b[0;31m---------------------------------------------------------------------------\u001b[0;32m\nNOTE: If your import is failing due to a missing package, you can\nmanually install dependencies using either !pip or !apt.\n\nTo view examples of installing some common dependencies, click the\n\"Open Examples\" button below.\n\u001b[0;31m---------------------------------------------------------------------------\u001b[0m\n"
          ],
          "errorDetails": {
            "actions": [
              {
                "action": "open_url",
                "actionText": "Open Examples",
                "url": "/notebooks/snippets/importing_libraries.ipynb"
              }
            ]
          }
        }
      ]
    }
  ]
}